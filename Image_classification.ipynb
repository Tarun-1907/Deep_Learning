{
  "nbformat": 4,
  "nbformat_minor": 0,
  "metadata": {
    "colab": {
      "provenance": []
    },
    "kernelspec": {
      "name": "python3",
      "display_name": "Python 3"
    },
    "language_info": {
      "name": "python"
    }
  },
  "cells": [
    {
      "cell_type": "code",
      "execution_count": 1,
      "metadata": {
        "id": "y1HkgBxBjjg9"
      },
      "outputs": [],
      "source": [
        "import tensorflow as tf\n",
        "import numpy as np\n",
        "import matplotlib.pyplot as plt\n",
        "from tensorflow.keras import datasets,layers,models\n",
        "from sklearn.model_selection import train_test_split"
      ]
    },
    {
      "cell_type": "code",
      "source": [
        "(X_train,y_train),(X_test,y_test)=datasets.cifar10.load_data()\n",
        "print(X_train.shape)\n",
        "print(y_train.shape)"
      ],
      "metadata": {
        "colab": {
          "base_uri": "https://localhost:8080/"
        },
        "id": "ah6i8XFOlC8s",
        "outputId": "f2eb7095-e746-41dd-d3ca-b14d35c1430c"
      },
      "execution_count": 2,
      "outputs": [
        {
          "output_type": "stream",
          "name": "stdout",
          "text": [
            "Downloading data from https://www.cs.toronto.edu/~kriz/cifar-10-python.tar.gz\n",
            "170498071/170498071 [==============================] - 3s 0us/step\n",
            "(50000, 32, 32, 3)\n",
            "(50000, 1)\n"
          ]
        }
      ]
    },
    {
      "cell_type": "code",
      "source": [
        "y_train=y_train.reshape(-1,)\n",
        "y_train[:5]"
      ],
      "metadata": {
        "colab": {
          "base_uri": "https://localhost:8080/"
        },
        "id": "Zy0sVbc4mgNB",
        "outputId": "f0886b8e-45f3-4f17-870c-23c2c7d540e8"
      },
      "execution_count": 3,
      "outputs": [
        {
          "output_type": "execute_result",
          "data": {
            "text/plain": [
              "array([6, 9, 9, 4, 1], dtype=uint8)"
            ]
          },
          "metadata": {},
          "execution_count": 3
        }
      ]
    },
    {
      "cell_type": "code",
      "source": [
        "classes=[\"airplane\",\"automobile\",\"bird\",\"cat\",\"deer\",\"dog\",\"frog\",\"horse\",\"ship\",\"truck\"]"
      ],
      "metadata": {
        "id": "E2-QhaSZmB6d"
      },
      "execution_count": 4,
      "outputs": []
    },
    {
      "cell_type": "code",
      "source": [
        "def plot_sample(X,y,index):\n",
        "    plt.figure(figsize=(15,2))\n",
        "    plt.imshow(X[index])\n",
        "    plt.xlabel(classes[y[index]])"
      ],
      "metadata": {
        "id": "UIkG2I48lWAv"
      },
      "execution_count": 5,
      "outputs": []
    },
    {
      "cell_type": "code",
      "source": [
        "plot_sample(X_train,y_train,0)"
      ],
      "metadata": {
        "colab": {
          "base_uri": "https://localhost:8080/",
          "height": 237
        },
        "id": "j9fKfHiWldJL",
        "outputId": "d889740e-783b-462b-f965-6022a8f8fa69"
      },
      "execution_count": 22,
      "outputs": [
        {
          "output_type": "display_data",
          "data": {
            "text/plain": [
              "<Figure size 1500x200 with 1 Axes>"
            ],
            "image/png": "[encoded data removed]"
          },
          "metadata": {}
        }
      ]
    },
    {
      "cell_type": "code",
      "source": [
        "plot_sample(X_train,y_train, 6)"
      ],
      "metadata": {
        "colab": {
          "base_uri": "https://localhost:8080/",
          "height": 237
        },
        "id": "ibO_QLNgm4UF",
        "outputId": "22d4f99d-60ac-41a2-afa6-ade7d07ecc37"
      },
      "execution_count": 23,
      "outputs": [
        {
          "output_type": "display_data",
          "data": {
            "text/plain": [
              "<Figure size 1500x200 with 1 Axes>"
            ],
            "image/png": "[encoded data removed]"
          },
          "metadata": {}
        }
      ]
    },
    {
      "cell_type": "code",
      "source": [
        "X_train=X_train/255\n",
        "X_test=X_test/255"
      ],
      "metadata": {
        "id": "wD-vWFnJn9S2"
      },
      "execution_count": 8,
      "outputs": []
    },
    {
      "cell_type": "code",
      "source": [
        "cnn=models.Sequential([\n",
        "\n",
        "    layers.Conv2D(filters=32,kernel_size=(3,3),activation=\"relu\",input_shape=(32,32,3)),\n",
        "    layers.MaxPooling2D((2,2)),\n",
        "    layers.Conv2D(filters=64,kernel_size=(3,3),activation=\"relu\"),\n",
        "    layers.MaxPooling2D((2,2)),\n",
        "    layers.Flatten(),\n",
        "    layers.Dense(64,activation=\"relu\"),\n",
        "    layers.Dense(32,activation=\"sigmoid\"),\n",
        "\n",
        "])\n",
        "cnn.compile(optimizer=\"SGD\",\n",
        "            loss=\"sparse_categorical_crossentropy\",\n",
        "            metrics=[\"accuracy\"])\n",
        "cnn.fit(X_train,y_train,epochs=30)"
      ],
      "metadata": {
        "colab": {
          "base_uri": "https://localhost:8080/"
        },
        "id": "_wO5XVndtQ4E",
        "outputId": "eb934a32-5fb7-4956-e429-befc39de445f"
      },
      "execution_count": 10,
      "outputs": [
        {
          "output_type": "stream",
          "name": "stdout",
          "text": [
            "Epoch 1/30\n",
            "1563/1563 [==============================] - 66s 41ms/step - loss: 2.1232 - accuracy: 0.2294\n",
            "Epoch 2/30\n",
            "1563/1563 [==============================] - 61s 39ms/step - loss: 1.7393 - accuracy: 0.3759\n",
            "Epoch 3/30\n",
            "1563/1563 [==============================] - 61s 39ms/step - loss: 1.5175 - accuracy: 0.4571\n",
            "Epoch 4/30\n",
            "1563/1563 [==============================] - 59s 38ms/step - loss: 1.4022 - accuracy: 0.5019\n",
            "Epoch 5/30\n",
            "1563/1563 [==============================] - 60s 38ms/step - loss: 1.3171 - accuracy: 0.5338\n",
            "Epoch 6/30\n",
            "1563/1563 [==============================] - 59s 38ms/step - loss: 1.2486 - accuracy: 0.5591\n",
            "Epoch 7/30\n",
            "1563/1563 [==============================] - 60s 39ms/step - loss: 1.1878 - accuracy: 0.5833\n",
            "Epoch 8/30\n",
            "1563/1563 [==============================] - 59s 38ms/step - loss: 1.1327 - accuracy: 0.6039\n",
            "Epoch 9/30\n",
            "1563/1563 [==============================] - 62s 39ms/step - loss: 1.0813 - accuracy: 0.6230\n",
            "Epoch 10/30\n",
            "1563/1563 [==============================] - 60s 38ms/step - loss: 1.0393 - accuracy: 0.6394\n",
            "Epoch 11/30\n",
            "1563/1563 [==============================] - 59s 38ms/step - loss: 0.9997 - accuracy: 0.6526\n",
            "Epoch 12/30\n",
            "1563/1563 [==============================] - 60s 39ms/step - loss: 0.9655 - accuracy: 0.6656\n",
            "Epoch 13/30\n",
            "1563/1563 [==============================] - 60s 38ms/step - loss: 0.9304 - accuracy: 0.6775\n",
            "Epoch 14/30\n",
            "1563/1563 [==============================] - 59s 38ms/step - loss: 0.9001 - accuracy: 0.6878\n",
            "Epoch 15/30\n",
            "1563/1563 [==============================] - 60s 39ms/step - loss: 0.8708 - accuracy: 0.6979\n",
            "Epoch 16/30\n",
            "1563/1563 [==============================] - 59s 38ms/step - loss: 0.8438 - accuracy: 0.7093\n",
            "Epoch 17/30\n",
            "1563/1563 [==============================] - 60s 39ms/step - loss: 0.8189 - accuracy: 0.7191\n",
            "Epoch 18/30\n",
            "1563/1563 [==============================] - 60s 39ms/step - loss: 0.7944 - accuracy: 0.7245\n",
            "Epoch 19/30\n",
            "1563/1563 [==============================] - 59s 38ms/step - loss: 0.7683 - accuracy: 0.7351\n",
            "Epoch 20/30\n",
            "1563/1563 [==============================] - 60s 39ms/step - loss: 0.7453 - accuracy: 0.7422\n",
            "Epoch 21/30\n",
            "1563/1563 [==============================] - 59s 38ms/step - loss: 0.7230 - accuracy: 0.7501\n",
            "Epoch 22/30\n",
            "1563/1563 [==============================] - 60s 39ms/step - loss: 0.7010 - accuracy: 0.7601\n",
            "Epoch 23/30\n",
            "1563/1563 [==============================] - 60s 39ms/step - loss: 0.6774 - accuracy: 0.7673\n",
            "Epoch 24/30\n",
            "1563/1563 [==============================] - 59s 38ms/step - loss: 0.6561 - accuracy: 0.7721\n",
            "Epoch 25/30\n",
            "1563/1563 [==============================] - 61s 39ms/step - loss: 0.6353 - accuracy: 0.7803\n",
            "Epoch 26/30\n",
            "1563/1563 [==============================] - 59s 38ms/step - loss: 0.6147 - accuracy: 0.7876\n",
            "Epoch 27/30\n",
            "1563/1563 [==============================] - 60s 39ms/step - loss: 0.5962 - accuracy: 0.7940\n",
            "Epoch 28/30\n",
            "1563/1563 [==============================] - 60s 38ms/step - loss: 0.5742 - accuracy: 0.8029\n",
            "Epoch 29/30\n",
            "1563/1563 [==============================] - 59s 38ms/step - loss: 0.5540 - accuracy: 0.8089\n",
            "Epoch 30/30\n",
            "1563/1563 [==============================] - 60s 38ms/step - loss: 0.5356 - accuracy: 0.8163\n"
          ]
        },
        {
          "output_type": "execute_result",
          "data": {
            "text/plain": [
              "<keras.src.callbacks.History at 0x795da6cc0820>"
            ]
          },
          "metadata": {},
          "execution_count": 10
        }
      ]
    },
    {
      "cell_type": "code",
      "source": [
        "cnn.evaluate(X_test,y_test)"
      ],
      "metadata": {
        "colab": {
          "base_uri": "https://localhost:8080/"
        },
        "id": "Pxofp_mUvGt3",
        "outputId": "be9c2d9d-13a0-46a3-c05f-b6f9fa40cc3d"
      },
      "execution_count": 11,
      "outputs": [
        {
          "output_type": "stream",
          "name": "stdout",
          "text": [
            "313/313 [==============================] - 4s 12ms/step - loss: 0.9960 - accuracy: 0.6878\n"
          ]
        },
        {
          "output_type": "execute_result",
          "data": {
            "text/plain": [
              "[0.9960032105445862, 0.6877999901771545]"
            ]
          },
          "metadata": {},
          "execution_count": 11
        }
      ]
    },
    {
      "cell_type": "code",
      "source": [
        "y_test=y_test.reshape(-1,)\n",
        "y_test[:5]"
      ],
      "metadata": {
        "colab": {
          "base_uri": "https://localhost:8080/"
        },
        "id": "JblH3D7IvV5b",
        "outputId": "a668f67c-e7ae-4e74-fd0d-96b258a6b7b0"
      },
      "execution_count": 12,
      "outputs": [
        {
          "output_type": "execute_result",
          "data": {
            "text/plain": [
              "array([3, 8, 8, 0, 6], dtype=uint8)"
            ]
          },
          "metadata": {},
          "execution_count": 12
        }
      ]
    },
    {
      "cell_type": "code",
      "source": [
        "plot_sample(X_test,y_test,19)"
      ],
      "metadata": {
        "colab": {
          "base_uri": "https://localhost:8080/",
          "height": 237
        },
        "id": "SZ_vkqVEvcHC",
        "outputId": "49754fe1-1bc4-4600-df66-6ec53084f58d"
      },
      "execution_count": 17,
      "outputs": [
        {
          "output_type": "display_data",
          "data": {
            "text/plain": [
              "<Figure size 1500x200 with 1 Axes>"
            ],
            "image/png": "[encoded data removed]"
          },
          "metadata": {}
        }
      ]
    },
    {
      "cell_type": "code",
      "source": [
        "y_pred=cnn.predict(X_test)\n",
        "y_pred[:10]"
      ],
      "metadata": {
        "colab": {
          "base_uri": "https://localhost:8080/"
        },
        "id": "go-jywquvmrL",
        "outputId": "90ad5aa4-a2f9-4a8a-f743-9771fb195790"
      },
      "execution_count": 18,
      "outputs": [
        {
          "output_type": "stream",
          "name": "stdout",
          "text": [
            "313/313 [==============================] - 8s 25ms/step\n"
          ]
        },
        {
          "output_type": "execute_result",
          "data": {
            "text/plain": [
              "array([[9.97117758e-01, 9.96017754e-01, 9.99714851e-01, 9.99967575e-01,\n",
              "        9.97844636e-01, 9.99837995e-01, 9.67148423e-01, 9.21647549e-01,\n",
              "        9.95581150e-01, 9.87740099e-01, 3.90249528e-02, 2.21287720e-02,\n",
              "        1.61077008e-01, 1.57436468e-02, 8.30395594e-02, 4.18860823e-01,\n",
              "        2.54274867e-02, 7.45544285e-02, 1.61260933e-01, 1.99230447e-01,\n",
              "        3.88680845e-02, 1.63858905e-01, 3.19400668e-01, 3.93804386e-02,\n",
              "        6.58170432e-02, 2.25777254e-01, 6.97638243e-02, 6.66788146e-02,\n",
              "        5.33729643e-02, 1.34252664e-02, 2.88892407e-02, 1.59794167e-01],\n",
              "       [9.99998748e-01, 1.00000000e+00, 9.99441803e-01, 9.58510697e-01,\n",
              "        9.80304658e-01, 6.76599801e-01, 5.59492946e-01, 9.75521803e-01,\n",
              "        1.00000000e+00, 9.99985397e-01, 3.70547473e-02, 4.68674721e-03,\n",
              "        1.57270096e-02, 7.93566704e-02, 1.94679126e-02, 7.44757056e-02,\n",
              "        2.23769192e-02, 5.75169399e-02, 1.27650738e-01, 2.41399114e-03,\n",
              "        6.09720964e-03, 6.18984774e-02, 4.16936120e-03, 2.12026581e-01,\n",
              "        2.88595222e-02, 7.06029162e-02, 5.38558289e-02, 3.91748957e-02,\n",
              "        2.94606062e-03, 1.65709302e-01, 1.47357225e-01, 2.98755523e-02],\n",
              "       [9.99339700e-01, 9.99932766e-01, 9.87235069e-01, 9.76640403e-01,\n",
              "        9.56570566e-01, 9.01663184e-01, 3.60635787e-01, 9.57636833e-01,\n",
              "        9.99967039e-01, 9.99401808e-01, 5.55789322e-02, 6.83244364e-03,\n",
              "        1.60045624e-01, 2.10610151e-01, 1.26761228e-01, 1.29035160e-01,\n",
              "        1.24882586e-01, 1.76409766e-01, 2.16954857e-01, 2.79734284e-02,\n",
              "        2.02407494e-01, 3.22360665e-01, 9.08100680e-02, 1.96767047e-01,\n",
              "        6.93712533e-02, 3.06119710e-01, 2.34879032e-01, 7.35684261e-02,\n",
              "        4.92439419e-02, 2.65248746e-01, 6.42493069e-02, 8.35876167e-02],\n",
              "       [9.99997675e-01, 9.99300301e-01, 9.99963820e-01, 9.89541709e-01,\n",
              "        9.95473206e-01, 6.34553432e-01, 9.40422535e-01, 8.51245821e-01,\n",
              "        9.99990761e-01, 9.94848073e-01, 1.60966143e-02, 1.21690063e-02,\n",
              "        4.98314314e-02, 1.70626163e-01, 1.22458510e-01, 1.01060607e-01,\n",
              "        9.75586474e-02, 7.65473172e-02, 6.60947412e-02, 1.75826065e-02,\n",
              "        1.45866543e-01, 1.82258919e-01, 5.11657335e-02, 1.01261020e-01,\n",
              "        9.70277116e-02, 3.96316111e-01, 1.76698446e-01, 3.08988187e-02,\n",
              "        5.00318557e-02, 7.53946528e-02, 3.33633512e-01, 2.92126015e-02],\n",
              "       [2.43453115e-01, 8.32327068e-01, 9.99927819e-01, 9.99962628e-01,\n",
              "        9.99998331e-01, 9.99797344e-01, 9.99998450e-01, 6.95596278e-01,\n",
              "        6.39107645e-01, 6.33354485e-01, 3.35042439e-02, 1.78081453e-01,\n",
              "        4.38560806e-02, 5.51060699e-02, 7.09150210e-02, 3.34282845e-01,\n",
              "        6.76483754e-03, 3.46609093e-02, 1.02453589e-01, 1.50496542e-01,\n",
              "        2.01492801e-01, 5.78706503e-01, 6.23238906e-02, 6.67631440e-03,\n",
              "        5.42997047e-02, 1.03449702e-01, 2.41164312e-01, 1.30317450e-01,\n",
              "        1.28484428e-01, 1.34959463e-02, 8.66866931e-02, 5.92290163e-02],\n",
              "       [9.48568523e-01, 6.48836851e-01, 9.99846160e-01, 9.99953628e-01,\n",
              "        9.99664783e-01, 9.99938965e-01, 9.99994814e-01, 9.93983626e-01,\n",
              "        8.15759420e-01, 9.35364723e-01, 3.35001908e-02, 1.82845235e-01,\n",
              "        1.50426984e-01, 1.30069917e-02, 5.37124835e-02, 3.50824267e-01,\n",
              "        1.31552378e-02, 1.16117736e-02, 9.09361318e-02, 5.76674938e-01,\n",
              "        1.37209781e-02, 6.73110262e-02, 4.46244515e-02, 3.95006984e-02,\n",
              "        4.32675108e-02, 6.58875480e-02, 2.72398889e-01, 9.62980986e-02,\n",
              "        9.63499472e-02, 6.78858906e-02, 4.13290896e-02, 3.14883292e-01],\n",
              "       [9.99893188e-01, 1.00000000e+00, 9.99635875e-01, 9.99998569e-01,\n",
              "        9.08358753e-01, 9.99995708e-01, 9.99588728e-01, 9.99941587e-01,\n",
              "        9.99955177e-01, 9.99999046e-01, 2.96227131e-02, 9.78615833e-04,\n",
              "        5.60601242e-02, 6.40566635e-04, 6.67429715e-03, 3.99488257e-03,\n",
              "        2.19427180e-02, 1.10879265e-01, 2.14252770e-02, 5.41571081e-02,\n",
              "        2.79594236e-03, 1.52854547e-02, 2.23512188e-01, 1.16696963e-02,\n",
              "        1.26569020e-02, 7.85930175e-03, 8.28905627e-02, 1.95864990e-01,\n",
              "        3.65610793e-02, 4.61874306e-02, 1.35904807e-03, 1.21858139e-02],\n",
              "       [9.89859164e-01, 7.14268148e-01, 9.99346733e-01, 9.97174859e-01,\n",
              "        9.89419580e-01, 9.88555729e-01, 9.99960482e-01, 9.59197879e-01,\n",
              "        9.28200066e-01, 9.77069497e-01, 8.42736363e-02, 8.10747966e-02,\n",
              "        1.06954135e-01, 1.08192079e-01, 2.38714933e-01, 1.57301933e-01,\n",
              "        1.48809314e-01, 7.74398297e-02, 2.01300934e-01, 2.38848761e-01,\n",
              "        2.39099354e-01, 2.25553140e-01, 2.87836939e-02, 1.76946923e-01,\n",
              "        4.10748385e-02, 7.10313842e-02, 3.63382369e-01, 7.11518005e-02,\n",
              "        3.82103950e-01, 1.16995789e-01, 1.64033368e-01, 2.34386608e-01],\n",
              "       [9.44605768e-01, 4.61909883e-02, 9.99907732e-01, 9.99980330e-01,\n",
              "        9.99221206e-01, 9.99953330e-01, 9.98637378e-01, 9.98809040e-01,\n",
              "        6.12679243e-01, 7.51272440e-01, 3.13517004e-02, 3.64524186e-01,\n",
              "        3.48559082e-01, 1.39352426e-01, 1.37194023e-01, 2.13514179e-01,\n",
              "        2.52322443e-02, 3.39402929e-02, 1.25060007e-01, 1.70987621e-01,\n",
              "        1.95220664e-01, 9.32038352e-02, 3.47813107e-02, 3.56906876e-02,\n",
              "        6.12839647e-02, 7.60829970e-02, 7.57464767e-02, 7.61110485e-02,\n",
              "        3.59357707e-02, 2.81855371e-02, 6.73508123e-02, 3.10928732e-01],\n",
              "       [9.99417782e-01, 9.99999702e-01, 9.98655498e-01, 9.81500030e-01,\n",
              "        9.45236325e-01, 9.49379265e-01, 8.73052895e-01, 7.29384422e-01,\n",
              "        9.92598534e-01, 9.99983847e-01, 8.24558809e-02, 3.10257031e-03,\n",
              "        3.04906182e-02, 1.48412744e-02, 6.96103498e-02, 2.64634583e-02,\n",
              "        1.71742458e-02, 1.11029856e-01, 6.73273981e-01, 1.17263114e-02,\n",
              "        1.64186805e-02, 6.37442991e-02, 2.05792740e-01, 4.74002004e-01,\n",
              "        9.91608649e-02, 2.71045208e-01, 6.84822947e-02, 2.31442884e-01,\n",
              "        8.95754471e-02, 4.25492562e-02, 1.12374695e-02, 3.90615016e-02]],\n",
              "      dtype=float32)"
            ]
          },
          "metadata": {},
          "execution_count": 18
        }
      ]
    },
    {
      "cell_type": "code",
      "source": [
        "# cnn.save('/content/drive/MyDrive/cnn_model.h5')\n",
        "# model_path='/content/drive/MyDrive/cnn_model.h5'"
      ],
      "metadata": {
        "id": "nUdvhwGHYGuq"
      },
      "execution_count": 21,
      "outputs": []
    }
  ]
}